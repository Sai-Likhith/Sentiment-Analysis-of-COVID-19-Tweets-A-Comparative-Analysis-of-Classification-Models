{
  "nbformat": 4,
  "nbformat_minor": 0,
  "metadata": {
    "colab": {
      "provenance": [],
      "collapsed_sections": [
        "rLNc9wbXI17u",
        "9nfiBETCJW_N",
        "wSbvM1dhJbP9",
        "Y6NH3-He9zdp"
      ]
    },
    "kernelspec": {
      "name": "python3",
      "display_name": "Python 3"
    },
    "language_info": {
      "name": "python"
    }
  },
  "cells": [
    {
      "cell_type": "markdown",
      "source": [
        "#**PANUGANTI SAI LIKHITH**\n",
        "\n",
        "sailikithpaanuganti@gmail.com\n",
        "\n",
        "https://www.linkedin.com/in/sailikhith/"
      ],
      "metadata": {
        "id": "ojx11k8nl8uF"
      }
    },
    {
      "cell_type": "markdown",
      "source": [
        "# **Problem statement**\n",
        "\n",
        "Create a classification model to predict the sentiment either (Positive or Negative) based on Covid Tweets"
      ],
      "metadata": {
        "id": "Tk_sv0gWl3gz"
      }
    },
    {
      "cell_type": "markdown",
      "source": [
        "# **Dataset Required**\n",
        "\n",
        "https://github.com/Sai-Likhith/Sentiment-Analysis-of-COVID-19-Tweets-A-Comparative-Analysis-of-Classification-Models/blob/main/Corona_NLP.csv"
      ],
      "metadata": {
        "id": "r1GAZc7WQi9q"
      }
    },
    {
      "cell_type": "markdown",
      "source": [
        "#**Getting Started**"
      ],
      "metadata": {
        "id": "rLNc9wbXI17u"
      }
    },
    {
      "cell_type": "code",
      "source": [
        "#Importing Required\n",
        "\n",
        "import pandas as pd\n",
        "import matplotlib.pyplot as plt\n",
        "import numpy as np\n",
        "import nltk\n",
        "from nltk.stem.porter import *\n",
        "import re\n",
        "import seaborn as sns\n",
        "palette=sns.color_palette('magma')\n",
        "sns.set(palette=palette)\n",
        "\n",
        "from sklearn.model_selection import train_test_split\n",
        "\n",
        "from sklearn.feature_extraction.text import CountVectorizer\n",
        "from nltk.corpus import stopwords\n",
        "\n",
        "from sklearn import metrics\n",
        "from sklearn.naive_bayes import MultinomialNB\n",
        "from sklearn import svm\n",
        "from sklearn.neighbors import KNeighborsClassifier\n",
        "from sklearn.metrics import classification_report, confusion_matrix, accuracy_score\n",
        "import sklearn.model_selection, sklearn.svm, sklearn.neighbors, sklearn.metrics\n",
        "\n",
        "import matplotlib.pyplot as plt"
      ],
      "metadata": {
        "id": "iHnz4BSXusCM"
      },
      "execution_count": 8,
      "outputs": []
    },
    {
      "cell_type": "markdown",
      "source": [
        "# **Read the dataset with encoding parameter set to ‘latin1’**"
      ],
      "metadata": {
        "id": "9nfiBETCJW_N"
      }
    },
    {
      "cell_type": "code",
      "execution_count": 9,
      "metadata": {
        "id": "RC89BT8gi2Ur"
      },
      "outputs": [],
      "source": [
        "df = pd.read_csv('/content/Corona_NLP.csv', encoding='latin1')"
      ]
    },
    {
      "cell_type": "code",
      "source": [
        "df.head()"
      ],
      "metadata": {
        "id": "PnQBkSUOqq8l",
        "colab": {
          "base_uri": "https://localhost:8080/",
          "height": 206
        },
        "outputId": "a80b19ed-0042-41c0-c6a3-3bf39de21df6"
      },
      "execution_count": 10,
      "outputs": [
        {
          "output_type": "execute_result",
          "data": {
            "text/plain": [
              "   UserName  ScreenName   Location     TweetAt  \\\n",
              "0      3799       48751     London  16-03-2020   \n",
              "1      3800       48752         UK  16-03-2020   \n",
              "2      3801       48753  Vagabonds  16-03-2020   \n",
              "3      3802       48754        NaN  16-03-2020   \n",
              "4      3803       48755        NaN  16-03-2020   \n",
              "\n",
              "                                       OriginalTweet           Sentiment  \n",
              "0  @MeNyrbie @Phil_Gahan @Chrisitv https://t.co/i...             Neutral  \n",
              "1  advice Talk to your neighbours family to excha...            Positive  \n",
              "2  Coronavirus Australia: Woolworths to give elde...            Positive  \n",
              "3  My food stock is not the only one which is emp...            Positive  \n",
              "4  Me, ready to go at supermarket during the #COV...  Extremely Negative  "
            ],
            "text/html": [
              "\n",
              "  <div id=\"df-a8c3fe5c-fcd0-46e8-8e1f-c73330486aa2\">\n",
              "    <div class=\"colab-df-container\">\n",
              "      <div>\n",
              "<style scoped>\n",
              "    .dataframe tbody tr th:only-of-type {\n",
              "        vertical-align: middle;\n",
              "    }\n",
              "\n",
              "    .dataframe tbody tr th {\n",
              "        vertical-align: top;\n",
              "    }\n",
              "\n",
              "    .dataframe thead th {\n",
              "        text-align: right;\n",
              "    }\n",
              "</style>\n",
              "<table border=\"1\" class=\"dataframe\">\n",
              "  <thead>\n",
              "    <tr style=\"text-align: right;\">\n",
              "      <th></th>\n",
              "      <th>UserName</th>\n",
              "      <th>ScreenName</th>\n",
              "      <th>Location</th>\n",
              "      <th>TweetAt</th>\n",
              "      <th>OriginalTweet</th>\n",
              "      <th>Sentiment</th>\n",
              "    </tr>\n",
              "  </thead>\n",
              "  <tbody>\n",
              "    <tr>\n",
              "      <th>0</th>\n",
              "      <td>3799</td>\n",
              "      <td>48751</td>\n",
              "      <td>London</td>\n",
              "      <td>16-03-2020</td>\n",
              "      <td>@MeNyrbie @Phil_Gahan @Chrisitv https://t.co/i...</td>\n",
              "      <td>Neutral</td>\n",
              "    </tr>\n",
              "    <tr>\n",
              "      <th>1</th>\n",
              "      <td>3800</td>\n",
              "      <td>48752</td>\n",
              "      <td>UK</td>\n",
              "      <td>16-03-2020</td>\n",
              "      <td>advice Talk to your neighbours family to excha...</td>\n",
              "      <td>Positive</td>\n",
              "    </tr>\n",
              "    <tr>\n",
              "      <th>2</th>\n",
              "      <td>3801</td>\n",
              "      <td>48753</td>\n",
              "      <td>Vagabonds</td>\n",
              "      <td>16-03-2020</td>\n",
              "      <td>Coronavirus Australia: Woolworths to give elde...</td>\n",
              "      <td>Positive</td>\n",
              "    </tr>\n",
              "    <tr>\n",
              "      <th>3</th>\n",
              "      <td>3802</td>\n",
              "      <td>48754</td>\n",
              "      <td>NaN</td>\n",
              "      <td>16-03-2020</td>\n",
              "      <td>My food stock is not the only one which is emp...</td>\n",
              "      <td>Positive</td>\n",
              "    </tr>\n",
              "    <tr>\n",
              "      <th>4</th>\n",
              "      <td>3803</td>\n",
              "      <td>48755</td>\n",
              "      <td>NaN</td>\n",
              "      <td>16-03-2020</td>\n",
              "      <td>Me, ready to go at supermarket during the #COV...</td>\n",
              "      <td>Extremely Negative</td>\n",
              "    </tr>\n",
              "  </tbody>\n",
              "</table>\n",
              "</div>\n",
              "      <button class=\"colab-df-convert\" onclick=\"convertToInteractive('df-a8c3fe5c-fcd0-46e8-8e1f-c73330486aa2')\"\n",
              "              title=\"Convert this dataframe to an interactive table.\"\n",
              "              style=\"display:none;\">\n",
              "        \n",
              "  <svg xmlns=\"http://www.w3.org/2000/svg\" height=\"24px\"viewBox=\"0 0 24 24\"\n",
              "       width=\"24px\">\n",
              "    <path d=\"M0 0h24v24H0V0z\" fill=\"none\"/>\n",
              "    <path d=\"M18.56 5.44l.94 2.06.94-2.06 2.06-.94-2.06-.94-.94-2.06-.94 2.06-2.06.94zm-11 1L8.5 8.5l.94-2.06 2.06-.94-2.06-.94L8.5 2.5l-.94 2.06-2.06.94zm10 10l.94 2.06.94-2.06 2.06-.94-2.06-.94-.94-2.06-.94 2.06-2.06.94z\"/><path d=\"M17.41 7.96l-1.37-1.37c-.4-.4-.92-.59-1.43-.59-.52 0-1.04.2-1.43.59L10.3 9.45l-7.72 7.72c-.78.78-.78 2.05 0 2.83L4 21.41c.39.39.9.59 1.41.59.51 0 1.02-.2 1.41-.59l7.78-7.78 2.81-2.81c.8-.78.8-2.07 0-2.86zM5.41 20L4 18.59l7.72-7.72 1.47 1.35L5.41 20z\"/>\n",
              "  </svg>\n",
              "      </button>\n",
              "      \n",
              "  <style>\n",
              "    .colab-df-container {\n",
              "      display:flex;\n",
              "      flex-wrap:wrap;\n",
              "      gap: 12px;\n",
              "    }\n",
              "\n",
              "    .colab-df-convert {\n",
              "      background-color: #E8F0FE;\n",
              "      border: none;\n",
              "      border-radius: 50%;\n",
              "      cursor: pointer;\n",
              "      display: none;\n",
              "      fill: #1967D2;\n",
              "      height: 32px;\n",
              "      padding: 0 0 0 0;\n",
              "      width: 32px;\n",
              "    }\n",
              "\n",
              "    .colab-df-convert:hover {\n",
              "      background-color: #E2EBFA;\n",
              "      box-shadow: 0px 1px 2px rgba(60, 64, 67, 0.3), 0px 1px 3px 1px rgba(60, 64, 67, 0.15);\n",
              "      fill: #174EA6;\n",
              "    }\n",
              "\n",
              "    [theme=dark] .colab-df-convert {\n",
              "      background-color: #3B4455;\n",
              "      fill: #D2E3FC;\n",
              "    }\n",
              "\n",
              "    [theme=dark] .colab-df-convert:hover {\n",
              "      background-color: #434B5C;\n",
              "      box-shadow: 0px 1px 3px 1px rgba(0, 0, 0, 0.15);\n",
              "      filter: drop-shadow(0px 1px 2px rgba(0, 0, 0, 0.3));\n",
              "      fill: #FFFFFF;\n",
              "    }\n",
              "  </style>\n",
              "\n",
              "      <script>\n",
              "        const buttonEl =\n",
              "          document.querySelector('#df-a8c3fe5c-fcd0-46e8-8e1f-c73330486aa2 button.colab-df-convert');\n",
              "        buttonEl.style.display =\n",
              "          google.colab.kernel.accessAllowed ? 'block' : 'none';\n",
              "\n",
              "        async function convertToInteractive(key) {\n",
              "          const element = document.querySelector('#df-a8c3fe5c-fcd0-46e8-8e1f-c73330486aa2');\n",
              "          const dataTable =\n",
              "            await google.colab.kernel.invokeFunction('convertToInteractive',\n",
              "                                                     [key], {});\n",
              "          if (!dataTable) return;\n",
              "\n",
              "          const docLinkHtml = 'Like what you see? Visit the ' +\n",
              "            '<a target=\"_blank\" href=https://colab.research.google.com/notebooks/data_table.ipynb>data table notebook</a>'\n",
              "            + ' to learn more about interactive tables.';\n",
              "          element.innerHTML = '';\n",
              "          dataTable['output_type'] = 'display_data';\n",
              "          await google.colab.output.renderOutput(dataTable, element);\n",
              "          const docLink = document.createElement('div');\n",
              "          docLink.innerHTML = docLinkHtml;\n",
              "          element.appendChild(docLink);\n",
              "        }\n",
              "      </script>\n",
              "    </div>\n",
              "  </div>\n",
              "  "
            ]
          },
          "metadata": {},
          "execution_count": 10
        }
      ]
    },
    {
      "cell_type": "code",
      "source": [
        "df.shape"
      ],
      "metadata": {
        "id": "7WNy7p_SsxYO",
        "colab": {
          "base_uri": "https://localhost:8080/"
        },
        "outputId": "2145fb6a-02fd-42cd-ad4d-0c41c901d4b9"
      },
      "execution_count": 11,
      "outputs": [
        {
          "output_type": "execute_result",
          "data": {
            "text/plain": [
              "(28667, 6)"
            ]
          },
          "metadata": {},
          "execution_count": 11
        }
      ]
    },
    {
      "cell_type": "code",
      "source": [
        "df.columns"
      ],
      "metadata": {
        "id": "keMDCPBAq3H8",
        "colab": {
          "base_uri": "https://localhost:8080/"
        },
        "outputId": "63a98539-ef5c-4d9b-d71e-93a387df6e18"
      },
      "execution_count": 12,
      "outputs": [
        {
          "output_type": "execute_result",
          "data": {
            "text/plain": [
              "Index(['UserName', 'ScreenName', 'Location', 'TweetAt', 'OriginalTweet',\n",
              "       'Sentiment'],\n",
              "      dtype='object')"
            ]
          },
          "metadata": {},
          "execution_count": 12
        }
      ]
    },
    {
      "cell_type": "markdown",
      "source": [
        "# **Checking for any null values and removing (if any)**"
      ],
      "metadata": {
        "id": "wSbvM1dhJbP9"
      }
    },
    {
      "cell_type": "code",
      "source": [
        "pd.isnull(df).sum()"
      ],
      "metadata": {
        "id": "otQKGLB6ofnF",
        "colab": {
          "base_uri": "https://localhost:8080/"
        },
        "outputId": "cec30068-f46e-4c39-b1aa-342affbfeb94"
      },
      "execution_count": 13,
      "outputs": [
        {
          "output_type": "execute_result",
          "data": {
            "text/plain": [
              "UserName            0\n",
              "ScreenName          0\n",
              "Location         6033\n",
              "TweetAt             0\n",
              "OriginalTweet       0\n",
              "Sentiment           1\n",
              "dtype: int64"
            ]
          },
          "metadata": {},
          "execution_count": 13
        }
      ]
    },
    {
      "cell_type": "code",
      "source": [
        "df = df.dropna( axis=0,inplace=False)    #Removes the Null data if any"
      ],
      "metadata": {
        "id": "xkHm3Uaxoyg-"
      },
      "execution_count": 14,
      "outputs": []
    },
    {
      "cell_type": "code",
      "source": [
        "pd.isnull(df).sum()"
      ],
      "metadata": {
        "id": "yEJ6V9alo3r2",
        "colab": {
          "base_uri": "https://localhost:8080/"
        },
        "outputId": "4e4b0432-d8bf-46a3-e9f2-7ff6b4f010d7"
      },
      "execution_count": 15,
      "outputs": [
        {
          "output_type": "execute_result",
          "data": {
            "text/plain": [
              "UserName         0\n",
              "ScreenName       0\n",
              "Location         0\n",
              "TweetAt          0\n",
              "OriginalTweet    0\n",
              "Sentiment        0\n",
              "dtype: int64"
            ]
          },
          "metadata": {},
          "execution_count": 15
        }
      ]
    },
    {
      "cell_type": "markdown",
      "source": [
        "# **Preprocess the Covid tweets based on the following parameter:**\n",
        "Tokenizing words, Convert words to lower case, Removing Punctuations, Removing Stop words, Stemming or lemmatizing the words"
      ],
      "metadata": {
        "id": "Q2Z32GD8tSkq"
      }
    },
    {
      "cell_type": "markdown",
      "source": [
        "***Removing special characters along with @mentions ,http:// and puntuations***\n",
        "\n",
        "---\n",
        "\n"
      ],
      "metadata": {
        "id": "8-79N1FR8v7N"
      }
    },
    {
      "cell_type": "code",
      "source": [
        "def remove_pattern(input_txt, pattern):\n",
        "    r = re.findall(pattern, input_txt)\n",
        "    for i in r:\n",
        "        input_txt = re.sub(i,'',input_txt)\n",
        "    return input_txt"
      ],
      "metadata": {
        "id": "ZCKEvE3rkZAg"
      },
      "execution_count": 16,
      "outputs": []
    },
    {
      "cell_type": "code",
      "source": [
        "df['OriginalTweet'] = np.vectorize(remove_pattern)(df['OriginalTweet'], '@[\\w]*')\n",
        "df['OriginalTweet'] = df['OriginalTweet'].apply(lambda x: re.split('https:\\/\\/.*', str(x))[0])\n",
        "df['OriginalTweet'] = df['OriginalTweet'].str.replace('[^a-zA-Z#]+',' ')"
      ],
      "metadata": {
        "colab": {
          "base_uri": "https://localhost:8080/"
        },
        "id": "401nbpdFkb_l",
        "outputId": "1a68c2d7-a0bd-4644-d825-2abfdb108244"
      },
      "execution_count": 17,
      "outputs": [
        {
          "output_type": "stream",
          "name": "stderr",
          "text": [
            "<ipython-input-17-55a11a509d84>:3: FutureWarning: The default value of regex will change from True to False in a future version.\n",
            "  df['OriginalTweet'] = df['OriginalTweet'].str.replace('[^a-zA-Z#]+',' ')\n"
          ]
        }
      ]
    },
    {
      "cell_type": "markdown",
      "source": [
        "***Removing Stop Words***\n",
        "\n",
        "---\n",
        "\n"
      ],
      "metadata": {
        "id": "tOxf38xfRlc5"
      }
    },
    {
      "cell_type": "code",
      "source": [
        "nltk.download('stopwords')\n",
        "from nltk.corpus import stopwords\n",
        "stop = stopwords.words('english')"
      ],
      "metadata": {
        "colab": {
          "base_uri": "https://localhost:8080/"
        },
        "id": "I7ma_De6R0yK",
        "outputId": "da76f13e-cf84-4b28-a7fe-89e14945b7df"
      },
      "execution_count": 18,
      "outputs": [
        {
          "output_type": "stream",
          "name": "stderr",
          "text": [
            "[nltk_data] Downloading package stopwords to /root/nltk_data...\n",
            "[nltk_data]   Unzipping corpora/stopwords.zip.\n"
          ]
        }
      ]
    },
    {
      "cell_type": "code",
      "source": [
        "df['OriginalTweet'].apply(lambda x: [item for item in x if item not in stop])"
      ],
      "metadata": {
        "id": "luw6SFJhk9Mx",
        "colab": {
          "base_uri": "https://localhost:8080/"
        },
        "outputId": "76b2d21b-92eb-483a-a893-3a1ad6f5a2b0"
      },
      "execution_count": 19,
      "outputs": [
        {
          "output_type": "execute_result",
          "data": {
            "text/plain": [
              "0                                                      [ ]\n",
              "1        [v, c, e,  , T, l, k,  ,  , u, r,  , n, e, g, ...\n",
              "2        [C, r, n, v, r, u,  , A, u, r, l,  , W, l, w, ...\n",
              "5        [A,  , n, e, w,  , f,  , h, e,  , r, e, g, n, ...\n",
              "6        [C, h, e, r,  ,  , g, r, c, e, r,  , r, e,  , ...\n",
              "                               ...                        \n",
              "28661    [e,  ,  , w, r, k,  , w, h, e, n,  , p, e, p, ...\n",
              "28662    [H, e, l, h,  , n, u, r, n, c, e,  , p, r, e, ...\n",
              "28663    [T, h, e,  ,  , g, r, n, p, r, e, n,  , n,  , ...\n",
              "28664    [ , n,  , h,  ,  , j, u,  , f, r,  , C, v,  , ...\n",
              "28665    [I, f,  , u,  , c, n,  , f, n,  , T, P,  , #, ...\n",
              "Name: OriginalTweet, Length: 22633, dtype: object"
            ]
          },
          "metadata": {},
          "execution_count": 19
        }
      ]
    },
    {
      "cell_type": "markdown",
      "source": [
        "***Converting OriginalTweet words to lower case***\n",
        "\n",
        "---\n",
        "\n"
      ],
      "metadata": {
        "id": "ZabLv1Y8Rrlj"
      }
    },
    {
      "cell_type": "code",
      "source": [
        "# Convert words to lower case\n",
        "\n",
        "df['OriginalTweet'] = df['OriginalTweet'].str.lower()"
      ],
      "metadata": {
        "id": "60liKevfBHyi"
      },
      "execution_count": 20,
      "outputs": []
    },
    {
      "cell_type": "markdown",
      "source": [
        "***Tokenizing OriginalTweet words***\n",
        "\n",
        "---\n",
        "\n"
      ],
      "metadata": {
        "id": "tZh_potWRhOt"
      }
    },
    {
      "cell_type": "code",
      "source": [
        "from nltk.tokenize import sent_tokenize, word_tokenize\n",
        "nltk.download('punkt')"
      ],
      "metadata": {
        "id": "SGfeogga3AGj",
        "colab": {
          "base_uri": "https://localhost:8080/"
        },
        "outputId": "35df2e44-997d-45b8-d9a5-fd6f433e981e"
      },
      "execution_count": 21,
      "outputs": [
        {
          "output_type": "stream",
          "name": "stderr",
          "text": [
            "[nltk_data] Downloading package punkt to /root/nltk_data...\n",
            "[nltk_data]   Unzipping tokenizers/punkt.zip.\n"
          ]
        },
        {
          "output_type": "execute_result",
          "data": {
            "text/plain": [
              "True"
            ]
          },
          "metadata": {},
          "execution_count": 21
        }
      ]
    },
    {
      "cell_type": "code",
      "source": [
        "df['OriginalTweet'] = df['OriginalTweet'].apply(word_tokenize)"
      ],
      "metadata": {
        "id": "DIFFLGZm16vY"
      },
      "execution_count": 22,
      "outputs": []
    },
    {
      "cell_type": "code",
      "source": [
        "df['OriginalTweet']"
      ],
      "metadata": {
        "colab": {
          "base_uri": "https://localhost:8080/"
        },
        "id": "mbnUdPbyv31a",
        "outputId": "bb0d1d0b-2d31-494b-9e4c-db29085dae21"
      },
      "execution_count": 23,
      "outputs": [
        {
          "output_type": "execute_result",
          "data": {
            "text/plain": [
              "0                                                       []\n",
              "1        [advice, talk, to, your, neighbours, family, t...\n",
              "2        [coronavirus, australia, woolworths, to, give,...\n",
              "5        [as, news, of, the, region, s, first, confirme...\n",
              "6        [cashier, at, grocery, store, was, sharing, hi...\n",
              "                               ...                        \n",
              "28661    [me, at, work, when, people, ask, if, we, have...\n",
              "28662    [health, insurance, premiums, could, rise, up,...\n",
              "28663    [the, says, grandparent, and, family, emergenc...\n",
              "28664    [and, that, s, just, from, covid, low, oil, pr...\n",
              "28665    [if, u, cant, find, tp, #, toiletpaper, at, th...\n",
              "Name: OriginalTweet, Length: 22633, dtype: object"
            ]
          },
          "metadata": {},
          "execution_count": 23
        }
      ]
    },
    {
      "cell_type": "markdown",
      "source": [
        "***Stemming the OriginalTweet words***\n",
        "\n",
        "---\n",
        "\n"
      ],
      "metadata": {
        "id": "fDoBNXtQoVHg"
      }
    },
    {
      "cell_type": "code",
      "source": [
        "from nltk.stem.porter import *\n",
        "stemmer = PorterStemmer()\n",
        "df['OriginalTweet'] = df['OriginalTweet'].apply(lambda x: [stemmer.stem(i) for i in x])\n",
        "df['OriginalTweet'] = df['OriginalTweet'].str.join(' ')"
      ],
      "metadata": {
        "id": "oT-7fYEEoXQY"
      },
      "execution_count": 24,
      "outputs": []
    },
    {
      "cell_type": "code",
      "source": [
        "df.head()"
      ],
      "metadata": {
        "id": "aebKTnJZjV1h",
        "colab": {
          "base_uri": "https://localhost:8080/",
          "height": 206
        },
        "outputId": "c810a181-7920-4f89-b93b-06c5499f8f76"
      },
      "execution_count": 25,
      "outputs": [
        {
          "output_type": "execute_result",
          "data": {
            "text/plain": [
              "   UserName  ScreenName                   Location     TweetAt  \\\n",
              "0      3799       48751                     London  16-03-2020   \n",
              "1      3800       48752                         UK  16-03-2020   \n",
              "2      3801       48753                  Vagabonds  16-03-2020   \n",
              "5      3804       48756  ÃT: 36.319708,-82.363649  16-03-2020   \n",
              "6      3805       48757       35.926541,-78.753267  16-03-2020   \n",
              "\n",
              "                                       OriginalTweet Sentiment  \n",
              "0                                                      Neutral  \n",
              "1  advic talk to your neighbour famili to exchang...  Positive  \n",
              "2  coronaviru australia woolworth to give elderli...  Positive  \n",
              "5  as news of the region s first confirm covid ca...  Positive  \n",
              "6  cashier at groceri store wa share hi insight o...  Positive  "
            ],
            "text/html": [
              "\n",
              "  <div id=\"df-f3b74c92-0023-4cf0-a5bf-ca571e67b5a9\">\n",
              "    <div class=\"colab-df-container\">\n",
              "      <div>\n",
              "<style scoped>\n",
              "    .dataframe tbody tr th:only-of-type {\n",
              "        vertical-align: middle;\n",
              "    }\n",
              "\n",
              "    .dataframe tbody tr th {\n",
              "        vertical-align: top;\n",
              "    }\n",
              "\n",
              "    .dataframe thead th {\n",
              "        text-align: right;\n",
              "    }\n",
              "</style>\n",
              "<table border=\"1\" class=\"dataframe\">\n",
              "  <thead>\n",
              "    <tr style=\"text-align: right;\">\n",
              "      <th></th>\n",
              "      <th>UserName</th>\n",
              "      <th>ScreenName</th>\n",
              "      <th>Location</th>\n",
              "      <th>TweetAt</th>\n",
              "      <th>OriginalTweet</th>\n",
              "      <th>Sentiment</th>\n",
              "    </tr>\n",
              "  </thead>\n",
              "  <tbody>\n",
              "    <tr>\n",
              "      <th>0</th>\n",
              "      <td>3799</td>\n",
              "      <td>48751</td>\n",
              "      <td>London</td>\n",
              "      <td>16-03-2020</td>\n",
              "      <td></td>\n",
              "      <td>Neutral</td>\n",
              "    </tr>\n",
              "    <tr>\n",
              "      <th>1</th>\n",
              "      <td>3800</td>\n",
              "      <td>48752</td>\n",
              "      <td>UK</td>\n",
              "      <td>16-03-2020</td>\n",
              "      <td>advic talk to your neighbour famili to exchang...</td>\n",
              "      <td>Positive</td>\n",
              "    </tr>\n",
              "    <tr>\n",
              "      <th>2</th>\n",
              "      <td>3801</td>\n",
              "      <td>48753</td>\n",
              "      <td>Vagabonds</td>\n",
              "      <td>16-03-2020</td>\n",
              "      <td>coronaviru australia woolworth to give elderli...</td>\n",
              "      <td>Positive</td>\n",
              "    </tr>\n",
              "    <tr>\n",
              "      <th>5</th>\n",
              "      <td>3804</td>\n",
              "      <td>48756</td>\n",
              "      <td>ÃT: 36.319708,-82.363649</td>\n",
              "      <td>16-03-2020</td>\n",
              "      <td>as news of the region s first confirm covid ca...</td>\n",
              "      <td>Positive</td>\n",
              "    </tr>\n",
              "    <tr>\n",
              "      <th>6</th>\n",
              "      <td>3805</td>\n",
              "      <td>48757</td>\n",
              "      <td>35.926541,-78.753267</td>\n",
              "      <td>16-03-2020</td>\n",
              "      <td>cashier at groceri store wa share hi insight o...</td>\n",
              "      <td>Positive</td>\n",
              "    </tr>\n",
              "  </tbody>\n",
              "</table>\n",
              "</div>\n",
              "      <button class=\"colab-df-convert\" onclick=\"convertToInteractive('df-f3b74c92-0023-4cf0-a5bf-ca571e67b5a9')\"\n",
              "              title=\"Convert this dataframe to an interactive table.\"\n",
              "              style=\"display:none;\">\n",
              "        \n",
              "  <svg xmlns=\"http://www.w3.org/2000/svg\" height=\"24px\"viewBox=\"0 0 24 24\"\n",
              "       width=\"24px\">\n",
              "    <path d=\"M0 0h24v24H0V0z\" fill=\"none\"/>\n",
              "    <path d=\"M18.56 5.44l.94 2.06.94-2.06 2.06-.94-2.06-.94-.94-2.06-.94 2.06-2.06.94zm-11 1L8.5 8.5l.94-2.06 2.06-.94-2.06-.94L8.5 2.5l-.94 2.06-2.06.94zm10 10l.94 2.06.94-2.06 2.06-.94-2.06-.94-.94-2.06-.94 2.06-2.06.94z\"/><path d=\"M17.41 7.96l-1.37-1.37c-.4-.4-.92-.59-1.43-.59-.52 0-1.04.2-1.43.59L10.3 9.45l-7.72 7.72c-.78.78-.78 2.05 0 2.83L4 21.41c.39.39.9.59 1.41.59.51 0 1.02-.2 1.41-.59l7.78-7.78 2.81-2.81c.8-.78.8-2.07 0-2.86zM5.41 20L4 18.59l7.72-7.72 1.47 1.35L5.41 20z\"/>\n",
              "  </svg>\n",
              "      </button>\n",
              "      \n",
              "  <style>\n",
              "    .colab-df-container {\n",
              "      display:flex;\n",
              "      flex-wrap:wrap;\n",
              "      gap: 12px;\n",
              "    }\n",
              "\n",
              "    .colab-df-convert {\n",
              "      background-color: #E8F0FE;\n",
              "      border: none;\n",
              "      border-radius: 50%;\n",
              "      cursor: pointer;\n",
              "      display: none;\n",
              "      fill: #1967D2;\n",
              "      height: 32px;\n",
              "      padding: 0 0 0 0;\n",
              "      width: 32px;\n",
              "    }\n",
              "\n",
              "    .colab-df-convert:hover {\n",
              "      background-color: #E2EBFA;\n",
              "      box-shadow: 0px 1px 2px rgba(60, 64, 67, 0.3), 0px 1px 3px 1px rgba(60, 64, 67, 0.15);\n",
              "      fill: #174EA6;\n",
              "    }\n",
              "\n",
              "    [theme=dark] .colab-df-convert {\n",
              "      background-color: #3B4455;\n",
              "      fill: #D2E3FC;\n",
              "    }\n",
              "\n",
              "    [theme=dark] .colab-df-convert:hover {\n",
              "      background-color: #434B5C;\n",
              "      box-shadow: 0px 1px 3px 1px rgba(0, 0, 0, 0.15);\n",
              "      filter: drop-shadow(0px 1px 2px rgba(0, 0, 0, 0.3));\n",
              "      fill: #FFFFFF;\n",
              "    }\n",
              "  </style>\n",
              "\n",
              "      <script>\n",
              "        const buttonEl =\n",
              "          document.querySelector('#df-f3b74c92-0023-4cf0-a5bf-ca571e67b5a9 button.colab-df-convert');\n",
              "        buttonEl.style.display =\n",
              "          google.colab.kernel.accessAllowed ? 'block' : 'none';\n",
              "\n",
              "        async function convertToInteractive(key) {\n",
              "          const element = document.querySelector('#df-f3b74c92-0023-4cf0-a5bf-ca571e67b5a9');\n",
              "          const dataTable =\n",
              "            await google.colab.kernel.invokeFunction('convertToInteractive',\n",
              "                                                     [key], {});\n",
              "          if (!dataTable) return;\n",
              "\n",
              "          const docLinkHtml = 'Like what you see? Visit the ' +\n",
              "            '<a target=\"_blank\" href=https://colab.research.google.com/notebooks/data_table.ipynb>data table notebook</a>'\n",
              "            + ' to learn more about interactive tables.';\n",
              "          element.innerHTML = '';\n",
              "          dataTable['output_type'] = 'display_data';\n",
              "          await google.colab.output.renderOutput(dataTable, element);\n",
              "          const docLink = document.createElement('div');\n",
              "          docLink.innerHTML = docLinkHtml;\n",
              "          element.appendChild(docLink);\n",
              "        }\n",
              "      </script>\n",
              "    </div>\n",
              "  </div>\n",
              "  "
            ]
          },
          "metadata": {},
          "execution_count": 25
        }
      ]
    },
    {
      "cell_type": "markdown",
      "source": [
        "# **Convert 'Extremely Positive', 'Extremely Negative' Sentiments to 'Positive', 'Negative' sentiments respectively**"
      ],
      "metadata": {
        "id": "Y6NH3-He9zdp"
      }
    },
    {
      "cell_type": "code",
      "source": [
        "Sentiment_encoding = {\n",
        "    'Extremely Negative': 0,\n",
        "    'Negative': 0,\n",
        "    'Neutral': 1,\n",
        "    'Positive': 2,\n",
        "    'Extremely Positive': 2\n",
        "}\n",
        "df['Sentiment']=df['Sentiment'].replace(Sentiment_encoding)"
      ],
      "metadata": {
        "id": "Rda4NASn-eKT"
      },
      "execution_count": 26,
      "outputs": []
    },
    {
      "cell_type": "code",
      "source": [
        "y = df['Sentiment']"
      ],
      "metadata": {
        "id": "YSscm-eTBrTS"
      },
      "execution_count": 27,
      "outputs": []
    },
    {
      "cell_type": "code",
      "source": [
        "y.unique()"
      ],
      "metadata": {
        "colab": {
          "base_uri": "https://localhost:8080/"
        },
        "id": "bFdPXP3iBv76",
        "outputId": "556450f5-7797-42fa-ab91-49cf37397fb9"
      },
      "execution_count": 28,
      "outputs": [
        {
          "output_type": "execute_result",
          "data": {
            "text/plain": [
              "array([1, 2, 0])"
            ]
          },
          "metadata": {},
          "execution_count": 28
        }
      ]
    },
    {
      "cell_type": "code",
      "source": [
        "df.head(10)"
      ],
      "metadata": {
        "colab": {
          "base_uri": "https://localhost:8080/",
          "height": 0
        },
        "id": "TCgaeE9X_jUL",
        "outputId": "0f4261f5-a4df-4899-ce60-6f47786abc5d"
      },
      "execution_count": 29,
      "outputs": [
        {
          "output_type": "execute_result",
          "data": {
            "text/plain": [
              "    UserName  ScreenName                   Location     TweetAt  \\\n",
              "0       3799       48751                     London  16-03-2020   \n",
              "1       3800       48752                         UK  16-03-2020   \n",
              "2       3801       48753                  Vagabonds  16-03-2020   \n",
              "5       3804       48756  ÃT: 36.319708,-82.363649  16-03-2020   \n",
              "6       3805       48757       35.926541,-78.753267  16-03-2020   \n",
              "7       3806       48758                    Austria  16-03-2020   \n",
              "8       3807       48759            Atlanta, GA USA  16-03-2020   \n",
              "9       3808       48760           BHAVNAGAR,GUJRAT  16-03-2020   \n",
              "10      3809       48761             Makati, Manila  16-03-2020   \n",
              "11      3810       48762  Pitt Meadows, BC, Canada   16-03-2020   \n",
              "\n",
              "                                        OriginalTweet  Sentiment  \n",
              "0                                                              1  \n",
              "1   advic talk to your neighbour famili to exchang...          2  \n",
              "2   coronaviru australia woolworth to give elderli...          2  \n",
              "5   as news of the region s first confirm covid ca...          2  \n",
              "6   cashier at groceri store wa share hi insight o...          2  \n",
              "7   wa at the supermarket today didn t buy toilet ...          1  \n",
              "8   due to covid our retail store and classroom in...          2  \n",
              "9   for corona prevent we should stop to buy thing...          0  \n",
              "10  all month there hasn t been crowd in the super...          1  \n",
              "11  due to the covid situat we have increas demand...          2  "
            ],
            "text/html": [
              "\n",
              "  <div id=\"df-11298331-23b4-4922-ae9d-a040ca7f85d6\">\n",
              "    <div class=\"colab-df-container\">\n",
              "      <div>\n",
              "<style scoped>\n",
              "    .dataframe tbody tr th:only-of-type {\n",
              "        vertical-align: middle;\n",
              "    }\n",
              "\n",
              "    .dataframe tbody tr th {\n",
              "        vertical-align: top;\n",
              "    }\n",
              "\n",
              "    .dataframe thead th {\n",
              "        text-align: right;\n",
              "    }\n",
              "</style>\n",
              "<table border=\"1\" class=\"dataframe\">\n",
              "  <thead>\n",
              "    <tr style=\"text-align: right;\">\n",
              "      <th></th>\n",
              "      <th>UserName</th>\n",
              "      <th>ScreenName</th>\n",
              "      <th>Location</th>\n",
              "      <th>TweetAt</th>\n",
              "      <th>OriginalTweet</th>\n",
              "      <th>Sentiment</th>\n",
              "    </tr>\n",
              "  </thead>\n",
              "  <tbody>\n",
              "    <tr>\n",
              "      <th>0</th>\n",
              "      <td>3799</td>\n",
              "      <td>48751</td>\n",
              "      <td>London</td>\n",
              "      <td>16-03-2020</td>\n",
              "      <td></td>\n",
              "      <td>1</td>\n",
              "    </tr>\n",
              "    <tr>\n",
              "      <th>1</th>\n",
              "      <td>3800</td>\n",
              "      <td>48752</td>\n",
              "      <td>UK</td>\n",
              "      <td>16-03-2020</td>\n",
              "      <td>advic talk to your neighbour famili to exchang...</td>\n",
              "      <td>2</td>\n",
              "    </tr>\n",
              "    <tr>\n",
              "      <th>2</th>\n",
              "      <td>3801</td>\n",
              "      <td>48753</td>\n",
              "      <td>Vagabonds</td>\n",
              "      <td>16-03-2020</td>\n",
              "      <td>coronaviru australia woolworth to give elderli...</td>\n",
              "      <td>2</td>\n",
              "    </tr>\n",
              "    <tr>\n",
              "      <th>5</th>\n",
              "      <td>3804</td>\n",
              "      <td>48756</td>\n",
              "      <td>ÃT: 36.319708,-82.363649</td>\n",
              "      <td>16-03-2020</td>\n",
              "      <td>as news of the region s first confirm covid ca...</td>\n",
              "      <td>2</td>\n",
              "    </tr>\n",
              "    <tr>\n",
              "      <th>6</th>\n",
              "      <td>3805</td>\n",
              "      <td>48757</td>\n",
              "      <td>35.926541,-78.753267</td>\n",
              "      <td>16-03-2020</td>\n",
              "      <td>cashier at groceri store wa share hi insight o...</td>\n",
              "      <td>2</td>\n",
              "    </tr>\n",
              "    <tr>\n",
              "      <th>7</th>\n",
              "      <td>3806</td>\n",
              "      <td>48758</td>\n",
              "      <td>Austria</td>\n",
              "      <td>16-03-2020</td>\n",
              "      <td>wa at the supermarket today didn t buy toilet ...</td>\n",
              "      <td>1</td>\n",
              "    </tr>\n",
              "    <tr>\n",
              "      <th>8</th>\n",
              "      <td>3807</td>\n",
              "      <td>48759</td>\n",
              "      <td>Atlanta, GA USA</td>\n",
              "      <td>16-03-2020</td>\n",
              "      <td>due to covid our retail store and classroom in...</td>\n",
              "      <td>2</td>\n",
              "    </tr>\n",
              "    <tr>\n",
              "      <th>9</th>\n",
              "      <td>3808</td>\n",
              "      <td>48760</td>\n",
              "      <td>BHAVNAGAR,GUJRAT</td>\n",
              "      <td>16-03-2020</td>\n",
              "      <td>for corona prevent we should stop to buy thing...</td>\n",
              "      <td>0</td>\n",
              "    </tr>\n",
              "    <tr>\n",
              "      <th>10</th>\n",
              "      <td>3809</td>\n",
              "      <td>48761</td>\n",
              "      <td>Makati, Manila</td>\n",
              "      <td>16-03-2020</td>\n",
              "      <td>all month there hasn t been crowd in the super...</td>\n",
              "      <td>1</td>\n",
              "    </tr>\n",
              "    <tr>\n",
              "      <th>11</th>\n",
              "      <td>3810</td>\n",
              "      <td>48762</td>\n",
              "      <td>Pitt Meadows, BC, Canada</td>\n",
              "      <td>16-03-2020</td>\n",
              "      <td>due to the covid situat we have increas demand...</td>\n",
              "      <td>2</td>\n",
              "    </tr>\n",
              "  </tbody>\n",
              "</table>\n",
              "</div>\n",
              "      <button class=\"colab-df-convert\" onclick=\"convertToInteractive('df-11298331-23b4-4922-ae9d-a040ca7f85d6')\"\n",
              "              title=\"Convert this dataframe to an interactive table.\"\n",
              "              style=\"display:none;\">\n",
              "        \n",
              "  <svg xmlns=\"http://www.w3.org/2000/svg\" height=\"24px\"viewBox=\"0 0 24 24\"\n",
              "       width=\"24px\">\n",
              "    <path d=\"M0 0h24v24H0V0z\" fill=\"none\"/>\n",
              "    <path d=\"M18.56 5.44l.94 2.06.94-2.06 2.06-.94-2.06-.94-.94-2.06-.94 2.06-2.06.94zm-11 1L8.5 8.5l.94-2.06 2.06-.94-2.06-.94L8.5 2.5l-.94 2.06-2.06.94zm10 10l.94 2.06.94-2.06 2.06-.94-2.06-.94-.94-2.06-.94 2.06-2.06.94z\"/><path d=\"M17.41 7.96l-1.37-1.37c-.4-.4-.92-.59-1.43-.59-.52 0-1.04.2-1.43.59L10.3 9.45l-7.72 7.72c-.78.78-.78 2.05 0 2.83L4 21.41c.39.39.9.59 1.41.59.51 0 1.02-.2 1.41-.59l7.78-7.78 2.81-2.81c.8-.78.8-2.07 0-2.86zM5.41 20L4 18.59l7.72-7.72 1.47 1.35L5.41 20z\"/>\n",
              "  </svg>\n",
              "      </button>\n",
              "      \n",
              "  <style>\n",
              "    .colab-df-container {\n",
              "      display:flex;\n",
              "      flex-wrap:wrap;\n",
              "      gap: 12px;\n",
              "    }\n",
              "\n",
              "    .colab-df-convert {\n",
              "      background-color: #E8F0FE;\n",
              "      border: none;\n",
              "      border-radius: 50%;\n",
              "      cursor: pointer;\n",
              "      display: none;\n",
              "      fill: #1967D2;\n",
              "      height: 32px;\n",
              "      padding: 0 0 0 0;\n",
              "      width: 32px;\n",
              "    }\n",
              "\n",
              "    .colab-df-convert:hover {\n",
              "      background-color: #E2EBFA;\n",
              "      box-shadow: 0px 1px 2px rgba(60, 64, 67, 0.3), 0px 1px 3px 1px rgba(60, 64, 67, 0.15);\n",
              "      fill: #174EA6;\n",
              "    }\n",
              "\n",
              "    [theme=dark] .colab-df-convert {\n",
              "      background-color: #3B4455;\n",
              "      fill: #D2E3FC;\n",
              "    }\n",
              "\n",
              "    [theme=dark] .colab-df-convert:hover {\n",
              "      background-color: #434B5C;\n",
              "      box-shadow: 0px 1px 3px 1px rgba(0, 0, 0, 0.15);\n",
              "      filter: drop-shadow(0px 1px 2px rgba(0, 0, 0, 0.3));\n",
              "      fill: #FFFFFF;\n",
              "    }\n",
              "  </style>\n",
              "\n",
              "      <script>\n",
              "        const buttonEl =\n",
              "          document.querySelector('#df-11298331-23b4-4922-ae9d-a040ca7f85d6 button.colab-df-convert');\n",
              "        buttonEl.style.display =\n",
              "          google.colab.kernel.accessAllowed ? 'block' : 'none';\n",
              "\n",
              "        async function convertToInteractive(key) {\n",
              "          const element = document.querySelector('#df-11298331-23b4-4922-ae9d-a040ca7f85d6');\n",
              "          const dataTable =\n",
              "            await google.colab.kernel.invokeFunction('convertToInteractive',\n",
              "                                                     [key], {});\n",
              "          if (!dataTable) return;\n",
              "\n",
              "          const docLinkHtml = 'Like what you see? Visit the ' +\n",
              "            '<a target=\"_blank\" href=https://colab.research.google.com/notebooks/data_table.ipynb>data table notebook</a>'\n",
              "            + ' to learn more about interactive tables.';\n",
              "          element.innerHTML = '';\n",
              "          dataTable['output_type'] = 'display_data';\n",
              "          await google.colab.output.renderOutput(dataTable, element);\n",
              "          const docLink = document.createElement('div');\n",
              "          docLink.innerHTML = docLinkHtml;\n",
              "          element.appendChild(docLink);\n",
              "        }\n",
              "      </script>\n",
              "    </div>\n",
              "  </div>\n",
              "  "
            ]
          },
          "metadata": {},
          "execution_count": 29
        }
      ]
    },
    {
      "cell_type": "markdown",
      "source": [
        "# **Splitting data into training and test data.**"
      ],
      "metadata": {
        "id": "1IqCuxxv4-FX"
      }
    },
    {
      "cell_type": "code",
      "source": [
        "data = df[['OriginalTweet','Sentiment']]\n",
        "data.shape"
      ],
      "metadata": {
        "id": "MV2ZVEbwxhm3",
        "colab": {
          "base_uri": "https://localhost:8080/"
        },
        "outputId": "eb5a53d3-4e0f-4dce-80d3-3d48808ee06a"
      },
      "execution_count": 30,
      "outputs": [
        {
          "output_type": "execute_result",
          "data": {
            "text/plain": [
              "(22633, 2)"
            ]
          },
          "metadata": {},
          "execution_count": 30
        }
      ]
    },
    {
      "cell_type": "code",
      "source": [
        "train,test = train_test_split(data,test_size = 0.2,random_state=0,stratify = data.Sentiment.values)\n",
        "\n",
        "print(\"Train shape : \", train.shape)\n",
        "print(\"Test shape : \", test.shape)"
      ],
      "metadata": {
        "colab": {
          "base_uri": "https://localhost:8080/"
        },
        "id": "rg559Gg1x0yL",
        "outputId": "68fd31eb-9094-4784-ef84-82201ac53402"
      },
      "execution_count": 31,
      "outputs": [
        {
          "output_type": "stream",
          "name": "stdout",
          "text": [
            "Train shape :  (18106, 2)\n",
            "Test shape :  (4527, 2)\n"
          ]
        }
      ]
    },
    {
      "cell_type": "markdown",
      "source": [
        "# **Transform the words into vectors using Count Vectorizer**\n"
      ],
      "metadata": {
        "id": "xwO8w0lzTFpm"
      }
    },
    {
      "cell_type": "code",
      "source": [
        "stop = list(stopwords.words('english'))\n",
        "vectorizer = CountVectorizer(decode_error = 'replace',stop_words = stop)\n",
        "\n",
        "X_train = vectorizer.fit_transform(train.OriginalTweet.values)\n",
        "X_test = vectorizer.transform(test.OriginalTweet.values)\n",
        "\n",
        "y_train = train.Sentiment.values\n",
        "y_test = test.Sentiment.values"
      ],
      "metadata": {
        "id": "H8ui0d-t6dvW"
      },
      "execution_count": 32,
      "outputs": []
    },
    {
      "cell_type": "code",
      "source": [
        "print(\"X_train.shape : \", X_train.shape)\n",
        "print(\"X_test.shape : \", X_test.shape)\n",
        "print(\"y_train.shape : \", y_train.shape)\n",
        "print(\"y_test.shape : \", y_test.shape)"
      ],
      "metadata": {
        "colab": {
          "base_uri": "https://localhost:8080/"
        },
        "id": "KicsxTl86hXz",
        "outputId": "7790f43b-79e3-4453-c075-be484e928271"
      },
      "execution_count": 33,
      "outputs": [
        {
          "output_type": "stream",
          "name": "stdout",
          "text": [
            "X_train.shape :  (18106, 19135)\n",
            "X_test.shape :  (4527, 19135)\n",
            "y_train.shape :  (18106,)\n",
            "y_test.shape :  (4527,)\n"
          ]
        }
      ]
    },
    {
      "cell_type": "markdown",
      "source": [
        "# **Apply the following models on the training dataset and generate the predicted value for the test dataset**\n",
        "\n",
        "a) Multinomial Naïve Bayes Classification\n",
        "\n",
        "b) SVM Classification\n",
        "\n",
        "c) KNN Classification"
      ],
      "metadata": {
        "id": "qYtO996rAr6t"
      }
    },
    {
      "cell_type": "markdown",
      "source": [
        "\n",
        "**a) Multinomial Naïve Bayes Classification**\n",
        "\n",
        "\n",
        "---\n"
      ],
      "metadata": {
        "id": "S6CYSzC5BmW1"
      }
    },
    {
      "cell_type": "code",
      "source": [
        "naiveByes_clf = MultinomialNB()\n",
        "naiveByes_clf.fit(X_train,y_train)\n",
        "\n",
        "NB_prediction = naiveByes_clf.predict(X_test)\n",
        "NB_accuracy = accuracy_score(y_test,NB_prediction)\n",
        "print(\"training accuracy Score    : \",naiveByes_clf.score(X_train,y_train))\n",
        "print(\"testing accuracy Score : \",NB_accuracy )\n",
        "print(classification_report(NB_prediction,y_test))"
      ],
      "metadata": {
        "colab": {
          "base_uri": "https://localhost:8080/"
        },
        "id": "WwoohSKE6kLK",
        "outputId": "c484a997-dff1-4e58-ffda-a8ddaeb3705e"
      },
      "execution_count": 34,
      "outputs": [
        {
          "output_type": "stream",
          "name": "stdout",
          "text": [
            "training accuracy Score    :  0.7951507787473766\n",
            "testing accuracy Score :  0.6556218246079081\n",
            "              precision    recall  f1-score   support\n",
            "\n",
            "           0       0.71      0.67      0.69      1850\n",
            "           1       0.19      0.62      0.29       253\n",
            "           2       0.80      0.65      0.72      2424\n",
            "\n",
            "    accuracy                           0.66      4527\n",
            "   macro avg       0.57      0.65      0.57      4527\n",
            "weighted avg       0.73      0.66      0.68      4527\n",
            "\n"
          ]
        }
      ]
    },
    {
      "cell_type": "code",
      "source": [
        "confusion_matrix_nb = confusion_matrix(y_test,NB_prediction)"
      ],
      "metadata": {
        "id": "aOzWBC7T7gzr"
      },
      "execution_count": 35,
      "outputs": []
    },
    {
      "cell_type": "markdown",
      "source": [
        "**b) SVM Classification**\n",
        "\n",
        "---\n",
        "\n"
      ],
      "metadata": {
        "id": "TZYDipKryTlJ"
      }
    },
    {
      "cell_type": "code",
      "source": [
        "svm = svm.LinearSVC(multi_class='ovr', max_iter = 10000)\n",
        "svm.fit(X_train, y_train)\n",
        "\n",
        "svm_prediction = svm.predict(X_test)\n",
        "svm_accuracy = accuracy_score(y_test,svm_prediction)\n",
        "print(\"Training accuracy Score    : \",svm.score(X_train,y_train))\n",
        "print(\"Testing accuracy Score : \",svm_accuracy )\n",
        "print(classification_report(svm_prediction,y_test))"
      ],
      "metadata": {
        "colab": {
          "base_uri": "https://localhost:8080/"
        },
        "id": "OudV4l2b1t18",
        "outputId": "e4e52ae4-2d6e-434b-faa3-daea894dab9b"
      },
      "execution_count": 36,
      "outputs": [
        {
          "output_type": "stream",
          "name": "stdout",
          "text": [
            "Training accuracy Score    :  0.9830995250193306\n",
            "Testing accuracy Score :  0.7506074663132317\n",
            "              precision    recall  f1-score   support\n",
            "\n",
            "           0       0.76      0.78      0.77      1686\n",
            "           1       0.61      0.60      0.61       849\n",
            "           2       0.80      0.79      0.80      1992\n",
            "\n",
            "    accuracy                           0.75      4527\n",
            "   macro avg       0.72      0.72      0.72      4527\n",
            "weighted avg       0.75      0.75      0.75      4527\n",
            "\n"
          ]
        }
      ]
    },
    {
      "cell_type": "code",
      "source": [
        "confusion_matrix_svm = confusion_matrix(y_test,svm_prediction)"
      ],
      "metadata": {
        "id": "HmmCgnnj79f_"
      },
      "execution_count": 37,
      "outputs": []
    },
    {
      "cell_type": "markdown",
      "source": [
        "**c) KNN Classification**\n",
        "\n",
        "---\n",
        "\n"
      ],
      "metadata": {
        "id": "kJ_7K54kB_bZ"
      }
    },
    {
      "cell_type": "code",
      "source": [
        "knn = KNeighborsClassifier(n_neighbors=3)\n",
        "knn.fit(X_train, y_train)\n",
        "\n",
        "knn_prediction = knn.predict(X_test)\n",
        "knn_accuracy = accuracy_score(y_test,knn_prediction)\n",
        "print(\"Training accuracy Score    : \",knn.score(X_train,y_train))\n",
        "print(\"Testing accuracy Score : \",knn_accuracy )\n",
        "print(classification_report(knn_prediction,y_test))"
      ],
      "metadata": {
        "colab": {
          "base_uri": "https://localhost:8080/"
        },
        "id": "YNyNxzdQCBKF",
        "outputId": "44190883-4b35-4061-e4c0-8ff7a44faea0"
      },
      "execution_count": 38,
      "outputs": [
        {
          "output_type": "stream",
          "name": "stdout",
          "text": [
            "Training accuracy Score    :  0.5803601016237712\n",
            "Testing accuracy Score :  0.340622929092114\n",
            "              precision    recall  f1-score   support\n",
            "\n",
            "           0       0.27      0.62      0.38       770\n",
            "           1       0.87      0.22      0.35      3259\n",
            "           2       0.18      0.70      0.28       498\n",
            "\n",
            "    accuracy                           0.34      4527\n",
            "   macro avg       0.44      0.51      0.34      4527\n",
            "weighted avg       0.69      0.34      0.35      4527\n",
            "\n"
          ]
        }
      ]
    },
    {
      "cell_type": "code",
      "source": [
        "confusion_matrix_knn = confusion_matrix(y_test,knn_prediction)"
      ],
      "metadata": {
        "id": "SJYXJB-05T_R"
      },
      "execution_count": 39,
      "outputs": []
    },
    {
      "cell_type": "markdown",
      "source": [
        "# **Compute Confusion matrix and classification report for each of these models**"
      ],
      "metadata": {
        "id": "_tzRPH4yCWhU"
      }
    },
    {
      "cell_type": "code",
      "source": [
        "# Confusion matrix for Multinomial Naïve Bayes\n",
        "\n",
        "print(\"Confusion matrix for Multinomial Naïve Bayes Classification is : \")\n",
        "print(confusion_matrix_nb)\n",
        "print('\\n')\n",
        "\n",
        "#Classification Report for Multinomial Naïve Bayes\n",
        "\n",
        "target_names = np.unique(y)\n",
        "target_names = ['0', '1', '2']\n",
        "NB_prediction.shape\n",
        "print(\"Classification Report for Multinomial Naïve Bayes Classification is : \\n\")\n",
        "print(classification_report(y_test.ravel() , NB_prediction.ravel(), target_names=target_names))"
      ],
      "metadata": {
        "colab": {
          "base_uri": "https://localhost:8080/"
        },
        "id": "yonuEIk6BcQG",
        "outputId": "74917827-d33e-44e1-80c2-20f72aa69ab6"
      },
      "execution_count": 40,
      "outputs": [
        {
          "output_type": "stream",
          "name": "stdout",
          "text": [
            "Confusion matrix for Multinomial Naïve Bayes Classification is : \n",
            "[[1234   46  453]\n",
            " [ 275  158  395]\n",
            " [ 341   49 1576]]\n",
            "\n",
            "\n",
            "Classification Report for Multinomial Naïve Bayes Classification is : \n",
            "\n",
            "              precision    recall  f1-score   support\n",
            "\n",
            "           0       0.67      0.71      0.69      1733\n",
            "           1       0.62      0.19      0.29       828\n",
            "           2       0.65      0.80      0.72      1966\n",
            "\n",
            "    accuracy                           0.66      4527\n",
            "   macro avg       0.65      0.57      0.57      4527\n",
            "weighted avg       0.65      0.66      0.63      4527\n",
            "\n"
          ]
        }
      ]
    },
    {
      "cell_type": "code",
      "source": [
        "# Confusion matrix for SVM\n",
        "\n",
        "print(\"Confusion matrix for SVM  is : \")\n",
        "print(confusion_matrix_svm)\n",
        "print('\\n')\n",
        "\n",
        "#Classification Report for SVM\n",
        "\n",
        "target_names = np.unique(y)\n",
        "target_names = ['0', '1', '2']\n",
        "NB_prediction.shape\n",
        "print(\"Classification Report for SVM Classification is : \\n\")\n",
        "print(classification_report(y_test.ravel() , svm_prediction.ravel(), target_names=target_names))"
      ],
      "metadata": {
        "colab": {
          "base_uri": "https://localhost:8080/"
        },
        "id": "S-Z4mPop4HS-",
        "outputId": "5a3fb23e-faa7-4f9e-aaab-aff3e4aa7156"
      },
      "execution_count": 41,
      "outputs": [
        {
          "output_type": "stream",
          "name": "stdout",
          "text": [
            "Confusion matrix for SVM  is : \n",
            "[[1311  172  250]\n",
            " [ 155  509  164]\n",
            " [ 220  168 1578]]\n",
            "\n",
            "\n",
            "Classification Report for SVM Classification is : \n",
            "\n",
            "              precision    recall  f1-score   support\n",
            "\n",
            "           0       0.78      0.76      0.77      1733\n",
            "           1       0.60      0.61      0.61       828\n",
            "           2       0.79      0.80      0.80      1966\n",
            "\n",
            "    accuracy                           0.75      4527\n",
            "   macro avg       0.72      0.72      0.72      4527\n",
            "weighted avg       0.75      0.75      0.75      4527\n",
            "\n"
          ]
        }
      ]
    },
    {
      "cell_type": "code",
      "source": [
        "# Confusion matrix for KNN\n",
        "\n",
        "print(\"Confusion matrix for KNN is : \")\n",
        "print(confusion_matrix_knn)\n",
        "print('\\n')\n",
        "\n",
        "#Classification Report for KNN\n",
        "\n",
        "target_names = np.unique(y)\n",
        "target_names = ['0', '1', '2']\n",
        "NB_prediction.shape\n",
        "print(\"Classification Report for KNN Classification is : \\n\")\n",
        "print(classification_report(y_test.ravel() , knn_prediction.ravel(), target_names=target_names))"
      ],
      "metadata": {
        "colab": {
          "base_uri": "https://localhost:8080/"
        },
        "id": "IBjo8a2zDzi0",
        "outputId": "d67ab063-927f-4dc9-ed23-1a1240692b61"
      },
      "execution_count": 42,
      "outputs": [
        {
          "output_type": "stream",
          "name": "stdout",
          "text": [
            "Confusion matrix for KNN is : \n",
            "[[ 475 1155  103]\n",
            " [  60  720   48]\n",
            " [ 235 1384  347]]\n",
            "\n",
            "\n",
            "Classification Report for KNN Classification is : \n",
            "\n",
            "              precision    recall  f1-score   support\n",
            "\n",
            "           0       0.62      0.27      0.38      1733\n",
            "           1       0.22      0.87      0.35       828\n",
            "           2       0.70      0.18      0.28      1966\n",
            "\n",
            "    accuracy                           0.34      4527\n",
            "   macro avg       0.51      0.44      0.34      4527\n",
            "weighted avg       0.58      0.34      0.33      4527\n",
            "\n"
          ]
        }
      ]
    },
    {
      "cell_type": "markdown",
      "source": [
        "# **Report the model with the best accuracy.**"
      ],
      "metadata": {
        "id": "8Mx8aTI1CaI1"
      }
    },
    {
      "cell_type": "code",
      "source": [
        "models = pd.DataFrame({\n",
        "    'Model': ['Naive Bayes', 'Support Vector Machines',' KNN Classification'],\n",
        "    'Accuracy': [NB_accuracy*100, svm_accuracy*100, knn_accuracy*100]})\n",
        "\n",
        "models.sort_values(by='Accuracy', ascending=False).reset_index(drop=True)"
      ],
      "metadata": {
        "id": "Jr3gih9-CleG",
        "colab": {
          "base_uri": "https://localhost:8080/",
          "height": 143
        },
        "outputId": "6e1abb42-2cbe-4fc2-f0d7-e9abeb6bfc31"
      },
      "execution_count": 60,
      "outputs": [
        {
          "output_type": "execute_result",
          "data": {
            "text/plain": [
              "                     Model   Accuracy\n",
              "0  Support Vector Machines  75.060747\n",
              "1              Naive Bayes  65.562182\n",
              "2       KNN Classification  34.062293"
            ],
            "text/html": [
              "\n",
              "  <div id=\"df-48c82476-012b-4548-a395-f02be5c929d2\">\n",
              "    <div class=\"colab-df-container\">\n",
              "      <div>\n",
              "<style scoped>\n",
              "    .dataframe tbody tr th:only-of-type {\n",
              "        vertical-align: middle;\n",
              "    }\n",
              "\n",
              "    .dataframe tbody tr th {\n",
              "        vertical-align: top;\n",
              "    }\n",
              "\n",
              "    .dataframe thead th {\n",
              "        text-align: right;\n",
              "    }\n",
              "</style>\n",
              "<table border=\"1\" class=\"dataframe\">\n",
              "  <thead>\n",
              "    <tr style=\"text-align: right;\">\n",
              "      <th></th>\n",
              "      <th>Model</th>\n",
              "      <th>Accuracy</th>\n",
              "    </tr>\n",
              "  </thead>\n",
              "  <tbody>\n",
              "    <tr>\n",
              "      <th>0</th>\n",
              "      <td>Support Vector Machines</td>\n",
              "      <td>75.060747</td>\n",
              "    </tr>\n",
              "    <tr>\n",
              "      <th>1</th>\n",
              "      <td>Naive Bayes</td>\n",
              "      <td>65.562182</td>\n",
              "    </tr>\n",
              "    <tr>\n",
              "      <th>2</th>\n",
              "      <td>KNN Classification</td>\n",
              "      <td>34.062293</td>\n",
              "    </tr>\n",
              "  </tbody>\n",
              "</table>\n",
              "</div>\n",
              "      <button class=\"colab-df-convert\" onclick=\"convertToInteractive('df-48c82476-012b-4548-a395-f02be5c929d2')\"\n",
              "              title=\"Convert this dataframe to an interactive table.\"\n",
              "              style=\"display:none;\">\n",
              "        \n",
              "  <svg xmlns=\"http://www.w3.org/2000/svg\" height=\"24px\"viewBox=\"0 0 24 24\"\n",
              "       width=\"24px\">\n",
              "    <path d=\"M0 0h24v24H0V0z\" fill=\"none\"/>\n",
              "    <path d=\"M18.56 5.44l.94 2.06.94-2.06 2.06-.94-2.06-.94-.94-2.06-.94 2.06-2.06.94zm-11 1L8.5 8.5l.94-2.06 2.06-.94-2.06-.94L8.5 2.5l-.94 2.06-2.06.94zm10 10l.94 2.06.94-2.06 2.06-.94-2.06-.94-.94-2.06-.94 2.06-2.06.94z\"/><path d=\"M17.41 7.96l-1.37-1.37c-.4-.4-.92-.59-1.43-.59-.52 0-1.04.2-1.43.59L10.3 9.45l-7.72 7.72c-.78.78-.78 2.05 0 2.83L4 21.41c.39.39.9.59 1.41.59.51 0 1.02-.2 1.41-.59l7.78-7.78 2.81-2.81c.8-.78.8-2.07 0-2.86zM5.41 20L4 18.59l7.72-7.72 1.47 1.35L5.41 20z\"/>\n",
              "  </svg>\n",
              "      </button>\n",
              "      \n",
              "  <style>\n",
              "    .colab-df-container {\n",
              "      display:flex;\n",
              "      flex-wrap:wrap;\n",
              "      gap: 12px;\n",
              "    }\n",
              "\n",
              "    .colab-df-convert {\n",
              "      background-color: #E8F0FE;\n",
              "      border: none;\n",
              "      border-radius: 50%;\n",
              "      cursor: pointer;\n",
              "      display: none;\n",
              "      fill: #1967D2;\n",
              "      height: 32px;\n",
              "      padding: 0 0 0 0;\n",
              "      width: 32px;\n",
              "    }\n",
              "\n",
              "    .colab-df-convert:hover {\n",
              "      background-color: #E2EBFA;\n",
              "      box-shadow: 0px 1px 2px rgba(60, 64, 67, 0.3), 0px 1px 3px 1px rgba(60, 64, 67, 0.15);\n",
              "      fill: #174EA6;\n",
              "    }\n",
              "\n",
              "    [theme=dark] .colab-df-convert {\n",
              "      background-color: #3B4455;\n",
              "      fill: #D2E3FC;\n",
              "    }\n",
              "\n",
              "    [theme=dark] .colab-df-convert:hover {\n",
              "      background-color: #434B5C;\n",
              "      box-shadow: 0px 1px 3px 1px rgba(0, 0, 0, 0.15);\n",
              "      filter: drop-shadow(0px 1px 2px rgba(0, 0, 0, 0.3));\n",
              "      fill: #FFFFFF;\n",
              "    }\n",
              "  </style>\n",
              "\n",
              "      <script>\n",
              "        const buttonEl =\n",
              "          document.querySelector('#df-48c82476-012b-4548-a395-f02be5c929d2 button.colab-df-convert');\n",
              "        buttonEl.style.display =\n",
              "          google.colab.kernel.accessAllowed ? 'block' : 'none';\n",
              "\n",
              "        async function convertToInteractive(key) {\n",
              "          const element = document.querySelector('#df-48c82476-012b-4548-a395-f02be5c929d2');\n",
              "          const dataTable =\n",
              "            await google.colab.kernel.invokeFunction('convertToInteractive',\n",
              "                                                     [key], {});\n",
              "          if (!dataTable) return;\n",
              "\n",
              "          const docLinkHtml = 'Like what you see? Visit the ' +\n",
              "            '<a target=\"_blank\" href=https://colab.research.google.com/notebooks/data_table.ipynb>data table notebook</a>'\n",
              "            + ' to learn more about interactive tables.';\n",
              "          element.innerHTML = '';\n",
              "          dataTable['output_type'] = 'display_data';\n",
              "          await google.colab.output.renderOutput(dataTable, element);\n",
              "          const docLink = document.createElement('div');\n",
              "          docLink.innerHTML = docLinkHtml;\n",
              "          element.appendChild(docLink);\n",
              "        }\n",
              "      </script>\n",
              "    </div>\n",
              "  </div>\n",
              "  "
            ]
          },
          "metadata": {},
          "execution_count": 60
        }
      ]
    },
    {
      "cell_type": "markdown",
      "source": [
        "**Support Vector Machines (SVM) got the highes accuracy, whereas Naives Bayes is in the Second place of best accuracy.**\n",
        "\n",
        "The least among all the three models is KNN which is not preferable for this dataset."
      ],
      "metadata": {
        "id": "EqtClCI35G0n"
      }
    }
  ]
}